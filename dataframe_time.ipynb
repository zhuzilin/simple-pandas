{
 "cells": [
  {
   "cell_type": "markdown",
   "metadata": {},
   "source": [
    "# simple pandas vs pandas: DataFrame"
   ]
  },
  {
   "cell_type": "code",
   "execution_count": 1,
   "metadata": {},
   "outputs": [],
   "source": [
    "from spandas.dataframe import DataFrame\n",
    "import pandas as pd\n",
    "import time\n",
    "import numpy as np"
   ]
  },
  {
   "cell_type": "markdown",
   "metadata": {},
   "source": [
    "## Append"
   ]
  },
  {
   "cell_type": "code",
   "execution_count": 2,
   "metadata": {},
   "outputs": [],
   "source": [
    "df = pd.DataFrame({'a': [], 'b': []})\n",
    "df_append = pd.DataFrame({'a': [1], 'b': [1]})"
   ]
  },
  {
   "cell_type": "code",
   "execution_count": 3,
   "metadata": {},
   "outputs": [],
   "source": [
    "start = time.time()\n",
    "for i in range(1000):\n",
    "    df = df.append(df_append)\n",
    "end = time.time()\n",
    "time_df = end - start"
   ]
  },
  {
   "cell_type": "code",
   "execution_count": 4,
   "metadata": {},
   "outputs": [],
   "source": [
    "fdf = DataFrame({'a': [], 'b': []})\n",
    "fdf_append = DataFrame({'a': [1], 'b': [1]})"
   ]
  },
  {
   "cell_type": "code",
   "execution_count": 5,
   "metadata": {},
   "outputs": [],
   "source": [
    "start = time.time()\n",
    "for i in range(1000):\n",
    "    fdf = fdf.append(fdf_append)\n",
    "end = time.time()\n",
    "time_fdf = end - start"
   ]
  },
  {
   "cell_type": "code",
   "execution_count": 6,
   "metadata": {},
   "outputs": [
    {
     "name": "stdout",
     "output_type": "stream",
     "text": [
      "pandas time: 0.48074, simple pandas time: 0.019938\n",
      "boost times: 24.112\n"
     ]
    }
   ],
   "source": [
    "assert(len(fdf) == len(df))\n",
    "print(\"pandas time: {:.5}, simple pandas time: {:.5}\".format(time_df, time_fdf))\n",
    "print(\"boost times: {:.5}\".format(time_df / time_fdf))"
   ]
  },
  {
   "cell_type": "code",
   "execution_count": 7,
   "metadata": {},
   "outputs": [],
   "source": [
    "start = time.time()\n",
    "df = df.append([df_append for _ in range(10000)])\n",
    "end = time.time()\n",
    "time_df = end - start"
   ]
  },
  {
   "cell_type": "code",
   "execution_count": 8,
   "metadata": {},
   "outputs": [],
   "source": [
    "start = time.time()\n",
    "fdf = fdf.append([fdf_append for _ in range(10000)])\n",
    "end = time.time()\n",
    "time_fdf = end - start"
   ]
  },
  {
   "cell_type": "code",
   "execution_count": 9,
   "metadata": {},
   "outputs": [
    {
     "name": "stdout",
     "output_type": "stream",
     "text": [
      "pandas time: 0.57944, simple pandas time: 0.022938\n",
      "boost times: 25.261\n"
     ]
    }
   ],
   "source": [
    "assert(len(fdf) == len(df))\n",
    "print(\"pandas time: {:.5}, simple pandas time: {:.5}\".format(time_df, time_fdf))\n",
    "print(\"boost times: {:.5}\".format(time_df / time_fdf))"
   ]
  },
  {
   "cell_type": "markdown",
   "metadata": {},
   "source": [
    "## iterrows"
   ]
  },
  {
   "cell_type": "code",
   "execution_count": 10,
   "metadata": {},
   "outputs": [],
   "source": [
    "d = {'a': np.zeros(10000), 'b': np.zeros(10000), 'c': np.zeros(10000)}\n",
    "df = pd.DataFrame(d)\n",
    "fdf = DataFrame(d)"
   ]
  },
  {
   "cell_type": "code",
   "execution_count": 11,
   "metadata": {},
   "outputs": [],
   "source": [
    "start = time.time()\n",
    "for k, v in df.iterrows():\n",
    "    pass\n",
    "end = time.time()\n",
    "time_df = end - start"
   ]
  },
  {
   "cell_type": "code",
   "execution_count": 12,
   "metadata": {},
   "outputs": [],
   "source": [
    "start = time.time()\n",
    "for k, v in fdf.iterrows():\n",
    "    pass\n",
    "end = time.time()\n",
    "time_fdf = end - start"
   ]
  },
  {
   "cell_type": "code",
   "execution_count": 13,
   "metadata": {},
   "outputs": [
    {
     "name": "stdout",
     "output_type": "stream",
     "text": [
      "pandas time: 0.36502, simple pandas time: 0.0099711\n",
      "boost times: 36.608\n"
     ]
    }
   ],
   "source": [
    "print(\"pandas time: {:.5}, simple pandas time: {:.5}\".format(time_df, time_fdf))\n",
    "print(\"boost times: {:.5}\".format(time_df / time_fdf))"
   ]
  },
  {
   "cell_type": "code",
   "execution_count": null,
   "metadata": {},
   "outputs": [],
   "source": []
  }
 ],
 "metadata": {
  "kernelspec": {
   "display_name": "Python 3",
   "language": "python",
   "name": "python3"
  },
  "language_info": {
   "codemirror_mode": {
    "name": "ipython",
    "version": 3
   },
   "file_extension": ".py",
   "mimetype": "text/x-python",
   "name": "python",
   "nbconvert_exporter": "python",
   "pygments_lexer": "ipython3",
   "version": "3.6.4"
  }
 },
 "nbformat": 4,
 "nbformat_minor": 2
}
