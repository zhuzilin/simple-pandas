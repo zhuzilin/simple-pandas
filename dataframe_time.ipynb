{
 "cells": [
  {
   "cell_type": "markdown",
   "metadata": {},
   "source": [
    "# simple pandas vs pandas: DataFrame"
   ]
  },
  {
   "cell_type": "code",
   "execution_count": 1,
   "metadata": {},
   "outputs": [],
   "source": [
    "from spandas import DataFrame\n",
    "import pandas as pd\n",
    "import time\n",
    "import numpy as np\n",
    "import math"
   ]
  },
  {
   "cell_type": "markdown",
   "metadata": {},
   "source": [
    "## Append"
   ]
  },
  {
   "cell_type": "code",
   "execution_count": 2,
   "metadata": {},
   "outputs": [],
   "source": [
    "df = pd.DataFrame({'a': [], 'b': []})\n",
    "df_append = pd.DataFrame({'a': [1], 'b': [1]})"
   ]
  },
  {
   "cell_type": "code",
   "execution_count": 3,
   "metadata": {},
   "outputs": [],
   "source": [
    "start = time.time()\n",
    "for i in range(1000):\n",
    "    df = df.append(df_append)\n",
    "end = time.time()\n",
    "time_df = end - start"
   ]
  },
  {
   "cell_type": "code",
   "execution_count": 4,
   "metadata": {},
   "outputs": [],
   "source": [
    "fdf = DataFrame({'a': [], 'b': []})\n",
    "fdf_append = DataFrame({'a': [1], 'b': [1]})"
   ]
  },
  {
   "cell_type": "code",
   "execution_count": 5,
   "metadata": {},
   "outputs": [],
   "source": [
    "start = time.time()\n",
    "for i in range(1000):\n",
    "    fdf = fdf.append(fdf_append)\n",
    "end = time.time()\n",
    "time_fdf = end - start"
   ]
  },
  {
   "cell_type": "code",
   "execution_count": 6,
   "metadata": {},
   "outputs": [
    {
     "name": "stdout",
     "output_type": "stream",
     "text": [
      "pandas time: 0.47377, simple pandas time: 0.018957\n",
      "boost times: 24.992\n"
     ]
    }
   ],
   "source": [
    "assert(len(fdf) == len(df))\n",
    "print(\"pandas time: {:.5}, simple pandas time: {:.5}\".format(time_df, time_fdf))\n",
    "print(\"boost times: {:.5}\".format(time_df / time_fdf))"
   ]
  },
  {
   "cell_type": "code",
   "execution_count": 7,
   "metadata": {},
   "outputs": [],
   "source": [
    "start = time.time()\n",
    "df = df.append([df_append for _ in range(10000)])\n",
    "end = time.time()\n",
    "time_df = end - start"
   ]
  },
  {
   "cell_type": "code",
   "execution_count": 8,
   "metadata": {},
   "outputs": [],
   "source": [
    "start = time.time()\n",
    "fdf = fdf.append([fdf_append for _ in range(10000)])\n",
    "end = time.time()\n",
    "time_fdf = end - start"
   ]
  },
  {
   "cell_type": "code",
   "execution_count": 9,
   "metadata": {},
   "outputs": [
    {
     "name": "stdout",
     "output_type": "stream",
     "text": [
      "pandas time: 0.59743, simple pandas time: 0.027949\n",
      "boost times: 21.376\n"
     ]
    }
   ],
   "source": [
    "assert(len(fdf) == len(df))\n",
    "print(\"pandas time: {:.5}, simple pandas time: {:.5}\".format(time_df, time_fdf))\n",
    "print(\"boost times: {:.5}\".format(time_df / time_fdf))"
   ]
  },
  {
   "cell_type": "markdown",
   "metadata": {},
   "source": [
    "## iterrows"
   ]
  },
  {
   "cell_type": "code",
   "execution_count": 10,
   "metadata": {},
   "outputs": [],
   "source": [
    "d = {'a': np.zeros(10000), 'b': np.zeros(10000), 'c': np.zeros(10000)}\n",
    "df = pd.DataFrame(d)\n",
    "fdf = DataFrame(d)"
   ]
  },
  {
   "cell_type": "code",
   "execution_count": 11,
   "metadata": {},
   "outputs": [],
   "source": [
    "start = time.time()\n",
    "for k, v in df.iterrows():\n",
    "    pass\n",
    "end = time.time()\n",
    "time_df = end - start"
   ]
  },
  {
   "cell_type": "code",
   "execution_count": 12,
   "metadata": {},
   "outputs": [],
   "source": [
    "start = time.time()\n",
    "for k, v in fdf.iterrows():\n",
    "    pass\n",
    "end = time.time()\n",
    "time_fdf = end - start"
   ]
  },
  {
   "cell_type": "code",
   "execution_count": 13,
   "metadata": {},
   "outputs": [
    {
     "name": "stdout",
     "output_type": "stream",
     "text": [
      "pandas time: 0.39298, simple pandas time: 0.010004\n",
      "boost times: 39.281\n"
     ]
    }
   ],
   "source": [
    "print(\"pandas time: {:.5}, simple pandas time: {:.5}\".format(time_df, time_fdf))\n",
    "print(\"boost times: {:.5}\".format(time_df / time_fdf))"
   ]
  },
  {
   "cell_type": "markdown",
   "metadata": {},
   "source": [
    "## apply"
   ]
  },
  {
   "cell_type": "code",
   "execution_count": 14,
   "metadata": {},
   "outputs": [],
   "source": [
    "d = {'math': np.random.randint(50, 100, size=100000), \n",
    "     'chinese': np.random.randint(50, 100, size=100000), \n",
    "     'english': np.random.randint(50, 100, size=100000)}\n",
    "df = pd.DataFrame(d)\n",
    "fdf = DataFrame(d)"
   ]
  },
  {
   "cell_type": "markdown",
   "metadata": {},
   "source": [
    "### element-wise"
   ]
  },
  {
   "cell_type": "code",
   "execution_count": 15,
   "metadata": {},
   "outputs": [],
   "source": [
    "start = time.time()\n",
    "tmp = df.applymap(lambda x: math.sqrt(x)*10)\n",
    "end = time.time()\n",
    "time_df = end - start"
   ]
  },
  {
   "cell_type": "code",
   "execution_count": 16,
   "metadata": {},
   "outputs": [],
   "source": [
    "start = time.time()\n",
    "tmp = fdf.apply(lambda x: math.sqrt(x)*10)\n",
    "end = time.time()\n",
    "time_df = end - start"
   ]
  },
  {
   "cell_type": "code",
   "execution_count": 17,
   "metadata": {},
   "outputs": [
    {
     "name": "stdout",
     "output_type": "stream",
     "text": [
      "pandas time: 0.11073, simple pandas time: 0.010004\n",
      "boost times: 11.069\n"
     ]
    }
   ],
   "source": [
    "print(\"pandas time: {:.5}, simple pandas time: {:.5}\".format(time_df, time_fdf))\n",
    "print(\"boost times: {:.5}\".format(time_df / time_fdf))"
   ]
  },
  {
   "cell_type": "markdown",
   "metadata": {},
   "source": [
    "during the test, something insteresting happens:"
   ]
  },
  {
   "cell_type": "code",
   "execution_count": 18,
   "metadata": {},
   "outputs": [],
   "source": [
    "start = time.time()\n",
    "tmp = df.applymap(lambda x: np.sqrt(x)*10)\n",
    "end = time.time()\n",
    "time_df = end - start"
   ]
  },
  {
   "cell_type": "code",
   "execution_count": 19,
   "metadata": {},
   "outputs": [],
   "source": [
    "start = time.time()\n",
    "tmp = fdf.apply(lambda x: np.sqrt(x)*10)\n",
    "end = time.time()\n",
    "time_df = end - start"
   ]
  },
  {
   "cell_type": "code",
   "execution_count": 20,
   "metadata": {},
   "outputs": [
    {
     "name": "stdout",
     "output_type": "stream",
     "text": [
      "pandas time: 0.44082, simple pandas time: 0.010004\n",
      "boost times: 44.064\n"
     ]
    }
   ],
   "source": [
    "print(\"pandas time: {:.5}, simple pandas time: {:.5}\".format(time_df, time_fdf))\n",
    "print(\"boost times: {:.5}\".format(time_df / time_fdf))"
   ]
  },
  {
   "cell_type": "markdown",
   "metadata": {},
   "source": [
    "for numpy function, pandas will take more time."
   ]
  },
  {
   "cell_type": "markdown",
   "metadata": {},
   "source": [
    "### row-wise"
   ]
  },
  {
   "cell_type": "code",
   "execution_count": 21,
   "metadata": {},
   "outputs": [],
   "source": [
    "start = time.time()\n",
    "df['sum'] = df.apply(lambda x: x['math'] +x['chinese'] + x['english'], axis=1)\n",
    "end = time.time()\n",
    "time_df = end - start"
   ]
  },
  {
   "cell_type": "code",
   "execution_count": 22,
   "metadata": {},
   "outputs": [],
   "source": [
    "start = time.time()\n",
    "fdf[['sum']] = fdf.apply(lambda x: x['math'] +x['chinese'] + x['english'], type='row')\n",
    "end = time.time()\n",
    "time_fdf = end - start"
   ]
  },
  {
   "cell_type": "code",
   "execution_count": 23,
   "metadata": {},
   "outputs": [
    {
     "name": "stdout",
     "output_type": "stream",
     "text": [
      "pandas time: 2.4006, simple pandas time: 0.15357\n",
      "boost times: 15.632\n"
     ]
    }
   ],
   "source": [
    "print(\"pandas time: {:.5}, simple pandas time: {:.5}\".format(time_df, time_fdf))\n",
    "print(\"boost times: {:.5}\".format(time_df / time_fdf))"
   ]
  },
  {
   "cell_type": "markdown",
   "metadata": {},
   "source": [
    "### column-wise"
   ]
  },
  {
   "cell_type": "code",
   "execution_count": 24,
   "metadata": {},
   "outputs": [
    {
     "data": {
      "text/plain": [
       "0.3260931968688965"
      ]
     },
     "execution_count": 24,
     "metadata": {},
     "output_type": "execute_result"
    }
   ],
   "source": [
    "start = time.time()\n",
    "for i in range(100):\n",
    "    tmp = df.apply(np.mean, axis=0)\n",
    "end = time.time()\n",
    "time_df = end - start\n",
    "time_df"
   ]
  },
  {
   "cell_type": "code",
   "execution_count": 25,
   "metadata": {},
   "outputs": [
    {
     "data": {
      "text/plain": [
       "0.04790663719177246"
      ]
     },
     "execution_count": 25,
     "metadata": {},
     "output_type": "execute_result"
    }
   ],
   "source": [
    "start = time.time()\n",
    "for i in range(100):\n",
    "    tmp = fdf.apply(np.mean, type='column')\n",
    "end = time.time()\n",
    "time_fdf = end - start\n",
    "time_fdf"
   ]
  },
  {
   "cell_type": "code",
   "execution_count": 26,
   "metadata": {},
   "outputs": [
    {
     "name": "stdout",
     "output_type": "stream",
     "text": [
      "pandas time: 0.32609, simple pandas time: 0.047907\n",
      "boost times: 6.8068\n"
     ]
    }
   ],
   "source": [
    "print(\"pandas time: {:.5}, simple pandas time: {:.5}\".format(time_df, time_fdf))\n",
    "print(\"boost times: {:.5}\".format(time_df / time_fdf))"
   ]
  }
 ],
 "metadata": {
  "kernelspec": {
   "display_name": "Python 3",
   "language": "python",
   "name": "python3"
  },
  "language_info": {
   "codemirror_mode": {
    "name": "ipython",
    "version": 3
   },
   "file_extension": ".py",
   "mimetype": "text/x-python",
   "name": "python",
   "nbconvert_exporter": "python",
   "pygments_lexer": "ipython3",
   "version": "3.6.4"
  }
 },
 "nbformat": 4,
 "nbformat_minor": 2
}
