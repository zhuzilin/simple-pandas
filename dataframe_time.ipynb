{
 "cells": [
  {
   "cell_type": "markdown",
   "metadata": {},
   "source": [
    "# simple pandas vs pandas: DataFrame"
   ]
  },
  {
   "cell_type": "code",
   "execution_count": 1,
   "metadata": {},
   "outputs": [],
   "source": [
    "from spandas import DataFrame\n",
    "import pandas as pd\n",
    "import time\n",
    "import numpy as np\n",
    "import math"
   ]
  },
  {
   "cell_type": "markdown",
   "metadata": {},
   "source": [
    "## Append"
   ]
  },
  {
   "cell_type": "code",
   "execution_count": 2,
   "metadata": {},
   "outputs": [],
   "source": [
    "df = pd.DataFrame({'a': [], 'b': []})\n",
    "df_append = pd.DataFrame({'a': [1], 'b': [1]})"
   ]
  },
  {
   "cell_type": "code",
   "execution_count": 3,
   "metadata": {},
   "outputs": [],
   "source": [
    "start = time.time()\n",
    "for i in range(1000):\n",
    "    df = df.append(df_append)\n",
    "end = time.time()\n",
    "time_df = end - start"
   ]
  },
  {
   "cell_type": "code",
   "execution_count": 4,
   "metadata": {},
   "outputs": [],
   "source": [
    "fdf = DataFrame({'a': [], 'b': []})\n",
    "fdf_append = DataFrame({'a': [1], 'b': [1]})"
   ]
  },
  {
   "cell_type": "code",
   "execution_count": 5,
   "metadata": {},
   "outputs": [],
   "source": [
    "start = time.time()\n",
    "for i in range(1000):\n",
    "    fdf = fdf.append(fdf_append)\n",
    "end = time.time()\n",
    "time_fdf = end - start"
   ]
  },
  {
   "cell_type": "code",
   "execution_count": 6,
   "metadata": {},
   "outputs": [
    {
     "name": "stdout",
     "output_type": "stream",
     "text": [
      "pandas time: 0.54956, simple pandas time: 0.020974\n",
      "boost times: 26.202\n"
     ]
    }
   ],
   "source": [
    "assert(len(fdf) == len(df))\n",
    "print(\"pandas time: {:.5}, simple pandas time: {:.5}\".format(time_df, time_fdf))\n",
    "print(\"boost times: {:.5}\".format(time_df / time_fdf))"
   ]
  },
  {
   "cell_type": "code",
   "execution_count": 7,
   "metadata": {},
   "outputs": [],
   "source": [
    "start = time.time()\n",
    "df = df.append([df_append for _ in range(10000)])\n",
    "end = time.time()\n",
    "time_df = end - start"
   ]
  },
  {
   "cell_type": "code",
   "execution_count": 8,
   "metadata": {},
   "outputs": [],
   "source": [
    "start = time.time()\n",
    "fdf = fdf.append([fdf_append for _ in range(10000)])\n",
    "end = time.time()\n",
    "time_fdf = end - start"
   ]
  },
  {
   "cell_type": "code",
   "execution_count": 9,
   "metadata": {},
   "outputs": [
    {
     "name": "stdout",
     "output_type": "stream",
     "text": [
      "pandas time: 0.6971, simple pandas time: 0.028922\n",
      "boost times: 24.103\n"
     ]
    }
   ],
   "source": [
    "assert(len(fdf) == len(df))\n",
    "print(\"pandas time: {:.5}, simple pandas time: {:.5}\".format(time_df, time_fdf))\n",
    "print(\"boost times: {:.5}\".format(time_df / time_fdf))"
   ]
  },
  {
   "cell_type": "markdown",
   "metadata": {},
   "source": [
    "## iterrows"
   ]
  },
  {
   "cell_type": "code",
   "execution_count": 10,
   "metadata": {},
   "outputs": [],
   "source": [
    "d = {'a': np.zeros(10000), 'b': np.zeros(10000), 'c': np.zeros(10000)}\n",
    "df = pd.DataFrame(d)\n",
    "fdf = DataFrame(d)"
   ]
  },
  {
   "cell_type": "code",
   "execution_count": 11,
   "metadata": {},
   "outputs": [],
   "source": [
    "start = time.time()\n",
    "for k, v in df.iterrows():\n",
    "    pass\n",
    "end = time.time()\n",
    "time_df = end - start"
   ]
  },
  {
   "cell_type": "code",
   "execution_count": 12,
   "metadata": {},
   "outputs": [],
   "source": [
    "start = time.time()\n",
    "for k, v in fdf.iterrows():\n",
    "    pass\n",
    "end = time.time()\n",
    "time_fdf = end - start"
   ]
  },
  {
   "cell_type": "code",
   "execution_count": 13,
   "metadata": {},
   "outputs": [
    {
     "name": "stdout",
     "output_type": "stream",
     "text": [
      "pandas time: 0.42995, simple pandas time: 0.011965\n",
      "boost times: 35.935\n"
     ]
    }
   ],
   "source": [
    "print(\"pandas time: {:.5}, simple pandas time: {:.5}\".format(time_df, time_fdf))\n",
    "print(\"boost times: {:.5}\".format(time_df / time_fdf))"
   ]
  },
  {
   "cell_type": "markdown",
   "metadata": {},
   "source": [
    "## apply"
   ]
  },
  {
   "cell_type": "code",
   "execution_count": 14,
   "metadata": {},
   "outputs": [],
   "source": [
    "d = {'math': np.random.randint(50, 100, size=100000), \n",
    "     'chinese': np.random.randint(50, 100, size=100000), \n",
    "     'english': np.random.randint(50, 100, size=100000)}\n",
    "df = pd.DataFrame(d)\n",
    "fdf = DataFrame(d)"
   ]
  },
  {
   "cell_type": "markdown",
   "metadata": {},
   "source": [
    "### element-wise"
   ]
  },
  {
   "cell_type": "code",
   "execution_count": 15,
   "metadata": {},
   "outputs": [],
   "source": [
    "start = time.time()\n",
    "tmp = df.applymap(lambda x: math.sqrt(x)*10)\n",
    "end = time.time()\n",
    "time_df = end - start"
   ]
  },
  {
   "cell_type": "code",
   "execution_count": 16,
   "metadata": {},
   "outputs": [],
   "source": [
    "start = time.time()\n",
    "tmp = fdf.apply(lambda x: math.sqrt(x)*10)\n",
    "end = time.time()\n",
    "time_df = end - start"
   ]
  },
  {
   "cell_type": "code",
   "execution_count": 17,
   "metadata": {},
   "outputs": [
    {
     "name": "stdout",
     "output_type": "stream",
     "text": [
      "pandas time: 0.10568, simple pandas time: 0.011965\n",
      "boost times: 8.8329\n"
     ]
    }
   ],
   "source": [
    "print(\"pandas time: {:.5}, simple pandas time: {:.5}\".format(time_df, time_fdf))\n",
    "print(\"boost times: {:.5}\".format(time_df / time_fdf))"
   ]
  },
  {
   "cell_type": "markdown",
   "metadata": {},
   "source": [
    "during the test, something insteresting happens:"
   ]
  },
  {
   "cell_type": "code",
   "execution_count": 18,
   "metadata": {},
   "outputs": [],
   "source": [
    "start = time.time()\n",
    "tmp = df.applymap(lambda x: np.sqrt(x)*10)\n",
    "end = time.time()\n",
    "time_df = end - start"
   ]
  },
  {
   "cell_type": "code",
   "execution_count": 19,
   "metadata": {},
   "outputs": [],
   "source": [
    "start = time.time()\n",
    "tmp = fdf.apply(lambda x: np.sqrt(x)*10)\n",
    "end = time.time()\n",
    "time_df = end - start"
   ]
  },
  {
   "cell_type": "code",
   "execution_count": 20,
   "metadata": {},
   "outputs": [
    {
     "name": "stdout",
     "output_type": "stream",
     "text": [
      "pandas time: 0.50967, simple pandas time: 0.011965\n",
      "boost times: 42.597\n"
     ]
    }
   ],
   "source": [
    "print(\"pandas time: {:.5}, simple pandas time: {:.5}\".format(time_df, time_fdf))\n",
    "print(\"boost times: {:.5}\".format(time_df / time_fdf))"
   ]
  },
  {
   "cell_type": "markdown",
   "metadata": {},
   "source": [
    "for numpy function, pandas will take more time."
   ]
  },
  {
   "cell_type": "markdown",
   "metadata": {},
   "source": [
    "### row-wise"
   ]
  },
  {
   "cell_type": "code",
   "execution_count": 21,
   "metadata": {},
   "outputs": [],
   "source": [
    "start = time.time()\n",
    "df['sum'] = df.apply(lambda x: x['math'] +x['chinese'] + x['english'], axis=1)\n",
    "end = time.time()\n",
    "time_df = end - start"
   ]
  },
  {
   "cell_type": "code",
   "execution_count": 22,
   "metadata": {},
   "outputs": [],
   "source": [
    "start = time.time()\n",
    "fdf[['sum']] = fdf.apply(lambda x: x['math'] +x['chinese'] + x['english'], type='row')\n",
    "end = time.time()\n",
    "time_fdf = end - start"
   ]
  },
  {
   "cell_type": "code",
   "execution_count": 23,
   "metadata": {},
   "outputs": [
    {
     "name": "stdout",
     "output_type": "stream",
     "text": [
      "pandas time: 2.8633, simple pandas time: 0.15658\n",
      "boost times: 18.286\n"
     ]
    }
   ],
   "source": [
    "print(\"pandas time: {:.5}, simple pandas time: {:.5}\".format(time_df, time_fdf))\n",
    "print(\"boost times: {:.5}\".format(time_df / time_fdf))"
   ]
  },
  {
   "cell_type": "markdown",
   "metadata": {},
   "source": [
    "### column-wise"
   ]
  },
  {
   "cell_type": "code",
   "execution_count": 24,
   "metadata": {},
   "outputs": [
    {
     "data": {
      "text/plain": [
       "0.39696621894836426"
      ]
     },
     "execution_count": 24,
     "metadata": {},
     "output_type": "execute_result"
    }
   ],
   "source": [
    "start = time.time()\n",
    "for i in range(100):\n",
    "    tmp = df.apply(np.mean, axis=0)\n",
    "end = time.time()\n",
    "time_df = end - start\n",
    "time_df"
   ]
  },
  {
   "cell_type": "code",
   "execution_count": 25,
   "metadata": {},
   "outputs": [
    {
     "data": {
      "text/plain": [
       "0.05089926719665527"
      ]
     },
     "execution_count": 25,
     "metadata": {},
     "output_type": "execute_result"
    }
   ],
   "source": [
    "start = time.time()\n",
    "for i in range(100):\n",
    "    tmp = fdf.apply(np.mean, type='column')\n",
    "end = time.time()\n",
    "time_fdf = end - start\n",
    "time_fdf"
   ]
  },
  {
   "cell_type": "code",
   "execution_count": 26,
   "metadata": {},
   "outputs": [
    {
     "name": "stdout",
     "output_type": "stream",
     "text": [
      "pandas time: 0.39697, simple pandas time: 0.050899\n",
      "boost times: 7.7991\n"
     ]
    }
   ],
   "source": [
    "print(\"pandas time: {:.5}, simple pandas time: {:.5}\".format(time_df, time_fdf))\n",
    "print(\"boost times: {:.5}\".format(time_df / time_fdf))"
   ]
  },
  {
   "cell_type": "markdown",
   "metadata": {},
   "source": [
    "## Sample"
   ]
  },
  {
   "cell_type": "code",
   "execution_count": 27,
   "metadata": {},
   "outputs": [],
   "source": [
    "d = {'math': np.random.randint(50, 100, size=1000000), \n",
    "     'chinese': np.random.randint(50, 100, size=1000000), \n",
    "     'english': np.random.randint(50, 100, size=1000000)}\n",
    "df = pd.DataFrame(d)\n",
    "fdf = DataFrame(d)"
   ]
  },
  {
   "cell_type": "code",
   "execution_count": 28,
   "metadata": {},
   "outputs": [
    {
     "data": {
      "text/plain": [
       "0.0389399528503418"
      ]
     },
     "execution_count": 28,
     "metadata": {},
     "output_type": "execute_result"
    }
   ],
   "source": [
    "start = time.time()\n",
    "tmp = df.sample(10000)\n",
    "end = time.time()\n",
    "time_df = end - start\n",
    "time_df"
   ]
  },
  {
   "cell_type": "code",
   "execution_count": 29,
   "metadata": {},
   "outputs": [
    {
     "data": {
      "text/plain": [
       "0.010972023010253906"
      ]
     },
     "execution_count": 29,
     "metadata": {},
     "output_type": "execute_result"
    }
   ],
   "source": [
    "start = time.time()\n",
    "tmp = fdf.sample(10000)\n",
    "end = time.time()\n",
    "time_fdf = end - start\n",
    "time_fdf"
   ]
  },
  {
   "cell_type": "code",
   "execution_count": 30,
   "metadata": {},
   "outputs": [
    {
     "data": {
      "text/plain": [
       "10000"
      ]
     },
     "execution_count": 30,
     "metadata": {},
     "output_type": "execute_result"
    }
   ],
   "source": [
    "len(tmp)"
   ]
  },
  {
   "cell_type": "code",
   "execution_count": 31,
   "metadata": {},
   "outputs": [
    {
     "name": "stdout",
     "output_type": "stream",
     "text": [
      "pandas time: 0.03894, simple pandas time: 0.010972\n",
      "boost times: 3.549\n"
     ]
    }
   ],
   "source": [
    "print(\"pandas time: {:.5}, simple pandas time: {:.5}\".format(time_df, time_fdf))\n",
    "print(\"boost times: {:.5}\".format(time_df / time_fdf))"
   ]
  },
  {
   "cell_type": "code",
   "execution_count": null,
   "metadata": {},
   "outputs": [],
   "source": []
  }
 ],
 "metadata": {
  "kernelspec": {
   "display_name": "Python 3",
   "language": "python",
   "name": "python3"
  },
  "language_info": {
   "codemirror_mode": {
    "name": "ipython",
    "version": 3
   },
   "file_extension": ".py",
   "mimetype": "text/x-python",
   "name": "python",
   "nbconvert_exporter": "python",
   "pygments_lexer": "ipython3",
   "version": "3.6.4"
  }
 },
 "nbformat": 4,
 "nbformat_minor": 2
}
