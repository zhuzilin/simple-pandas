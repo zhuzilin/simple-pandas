{
 "cells": [
  {
   "cell_type": "markdown",
   "metadata": {},
   "source": [
    "# simple pandas vs pandas: Series"
   ]
  },
  {
   "cell_type": "code",
   "execution_count": 1,
   "metadata": {},
   "outputs": [],
   "source": [
    "from spandas import Series\n",
    "import pandas as pd\n",
    "import time\n",
    "import numpy as np"
   ]
  },
  {
   "cell_type": "markdown",
   "metadata": {},
   "source": [
    "## Append"
   ]
  },
  {
   "cell_type": "code",
   "execution_count": 2,
   "metadata": {},
   "outputs": [],
   "source": [
    "s = pd.Series([])\n",
    "s_append = pd.Series([1])"
   ]
  },
  {
   "cell_type": "code",
   "execution_count": 3,
   "metadata": {},
   "outputs": [],
   "source": [
    "start = time.time()\n",
    "for i in range(10000):\n",
    "    s = s.append(s_append)\n",
    "end = time.time()\n",
    "time_s = end - start"
   ]
  },
  {
   "cell_type": "code",
   "execution_count": 4,
   "metadata": {},
   "outputs": [],
   "source": [
    "fs = Series([])\n",
    "fs_append = Series([1])"
   ]
  },
  {
   "cell_type": "code",
   "execution_count": 5,
   "metadata": {},
   "outputs": [],
   "source": [
    "start = time.time()\n",
    "fs_append = Series([1])\n",
    "for i in range(10000):\n",
    "    fs = fs.append(fs_append)\n",
    "end = time.time()\n",
    "time_fs = end - start"
   ]
  },
  {
   "cell_type": "code",
   "execution_count": 6,
   "metadata": {},
   "outputs": [
    {
     "name": "stdout",
     "output_type": "stream",
     "text": [
      "pandas time: 1.6256, simple pandas time: 0.16659\n",
      "boost times: 9.7585\n"
     ]
    }
   ],
   "source": [
    "assert len(s) == len(fs)\n",
    "print(\"pandas time: {:.5}, simple pandas time: {:.5}\".format(time_s, time_fs))\n",
    "print(\"boost times: {:.5}\".format(time_s / time_fs))"
   ]
  },
  {
   "cell_type": "code",
   "execution_count": 7,
   "metadata": {},
   "outputs": [],
   "source": [
    "start = time.time()\n",
    "s = s.append([s_append for _ in range(100000)])\n",
    "end = time.time()\n",
    "time_s = end - start"
   ]
  },
  {
   "cell_type": "code",
   "execution_count": 8,
   "metadata": {},
   "outputs": [],
   "source": [
    "start = time.time()\n",
    "fs = fs.append([fs_append for _ in range(100000)])\n",
    "end = time.time()\n",
    "time_fs = end - start"
   ]
  },
  {
   "cell_type": "code",
   "execution_count": 9,
   "metadata": {},
   "outputs": [
    {
     "name": "stdout",
     "output_type": "stream",
     "text": [
      "pandas time: 1.0432, simple pandas time: 0.082778\n",
      "boost times: 12.602\n"
     ]
    }
   ],
   "source": [
    "assert len(s) == len(fs)\n",
    "print(\"pandas time: {:.5}, simple pandas time: {:.5}\".format(time_s, time_fs))\n",
    "print(\"boost times: {:.5}\".format(time_s / time_fs))"
   ]
  },
  {
   "cell_type": "markdown",
   "metadata": {},
   "source": [
    "## Apply"
   ]
  },
  {
   "cell_type": "markdown",
   "metadata": {},
   "source": [
    "### element-wise"
   ]
  },
  {
   "cell_type": "code",
   "execution_count": 10,
   "metadata": {},
   "outputs": [],
   "source": [
    "s = pd.Series(range(1000000))"
   ]
  },
  {
   "cell_type": "code",
   "execution_count": 11,
   "metadata": {},
   "outputs": [],
   "source": [
    "fs = Series(s)"
   ]
  },
  {
   "cell_type": "code",
   "execution_count": 12,
   "metadata": {},
   "outputs": [],
   "source": [
    "start = time.time()\n",
    "s = s.apply(lambda x: x+1)\n",
    "end = time.time()\n",
    "time_s = end - start"
   ]
  },
  {
   "cell_type": "code",
   "execution_count": 13,
   "metadata": {},
   "outputs": [],
   "source": [
    "start = time.time()\n",
    "fs = fs.apply(lambda x: x+1)\n",
    "end = time.time()\n",
    "time_fs = end - start"
   ]
  },
  {
   "cell_type": "code",
   "execution_count": 14,
   "metadata": {},
   "outputs": [
    {
     "name": "stdout",
     "output_type": "stream",
     "text": [
      "pandas time: 0.32014, simple pandas time: 0.1865\n",
      "boost times: 1.7166\n"
     ]
    }
   ],
   "source": [
    "print(\"pandas time: {:.5}, simple pandas time: {:.5}\".format(time_s, time_fs))\n",
    "print(\"boost times: {:.5}\".format(time_s / time_fs))"
   ]
  },
  {
   "cell_type": "markdown",
   "metadata": {},
   "source": [
    "### column-wise"
   ]
  },
  {
   "cell_type": "code",
   "execution_count": 15,
   "metadata": {},
   "outputs": [],
   "source": [
    "start = time.time()\n",
    "for i in range(100):\n",
    "    tmp = s.agg(lambda x: x.mean() + x.std())\n",
    "end = time.time()\n",
    "time_s = end - start"
   ]
  },
  {
   "cell_type": "code",
   "execution_count": 16,
   "metadata": {},
   "outputs": [],
   "source": [
    "start = time.time()\n",
    "for i in range(100):\n",
    "    tmp = fs.apply(lambda x: x.mean() + x.std(), type='column')\n",
    "end = time.time()\n",
    "time_fs = end - start"
   ]
  },
  {
   "cell_type": "code",
   "execution_count": 17,
   "metadata": {},
   "outputs": [
    {
     "name": "stdout",
     "output_type": "stream",
     "text": [
      "pandas time: 5.1273, simple pandas time: 0.80983\n",
      "boost times: 6.3313\n"
     ]
    }
   ],
   "source": [
    "print(\"pandas time: {:.5}, simple pandas time: {:.5}\".format(time_s, time_fs))\n",
    "print(\"boost times: {:.5}\".format(time_s / time_fs))"
   ]
  },
  {
   "cell_type": "markdown",
   "metadata": {},
   "source": [
    "## Map\n",
    "\n",
    "To make it clear, map in simple pandas only do dictionary map"
   ]
  },
  {
   "cell_type": "code",
   "execution_count": 18,
   "metadata": {},
   "outputs": [],
   "source": [
    "s = pd.Series(range(100000))"
   ]
  },
  {
   "cell_type": "code",
   "execution_count": 19,
   "metadata": {},
   "outputs": [],
   "source": [
    "fs = Series(s)"
   ]
  },
  {
   "cell_type": "code",
   "execution_count": 20,
   "metadata": {},
   "outputs": [],
   "source": [
    "d = {i: 10000-i+1 for i in range(100000)}"
   ]
  },
  {
   "cell_type": "code",
   "execution_count": 21,
   "metadata": {},
   "outputs": [],
   "source": [
    "start = time.time()\n",
    "s.map(d)\n",
    "end = time.time()\n",
    "time_s = end - start"
   ]
  },
  {
   "cell_type": "code",
   "execution_count": 22,
   "metadata": {},
   "outputs": [],
   "source": [
    "start = time.time()\n",
    "fs = fs.map(d)\n",
    "end = time.time()\n",
    "time_fs = end - start"
   ]
  },
  {
   "cell_type": "code",
   "execution_count": 23,
   "metadata": {},
   "outputs": [
    {
     "name": "stdout",
     "output_type": "stream",
     "text": [
      "pandas time: 0.10076, simple pandas time: 0.056853\n",
      "boost times: 1.7724\n"
     ]
    }
   ],
   "source": [
    "print(\"pandas time: {:.5}, simple pandas time: {:.5}\".format(time_s, time_fs))\n",
    "print(\"boost times: {:.5}\".format(time_s / time_fs))"
   ]
  },
  {
   "cell_type": "markdown",
   "metadata": {},
   "source": [
    "## Iteration"
   ]
  },
  {
   "cell_type": "code",
   "execution_count": 24,
   "metadata": {},
   "outputs": [],
   "source": [
    "r = np.random.randint(2, size=100000)"
   ]
  },
  {
   "cell_type": "code",
   "execution_count": 25,
   "metadata": {},
   "outputs": [],
   "source": [
    "s = pd.Series(r)"
   ]
  },
  {
   "cell_type": "code",
   "execution_count": 26,
   "metadata": {},
   "outputs": [],
   "source": [
    "fs = Series(r)"
   ]
  },
  {
   "cell_type": "code",
   "execution_count": 27,
   "metadata": {},
   "outputs": [
    {
     "data": {
      "text/plain": [
       "24938"
      ]
     },
     "execution_count": 27,
     "metadata": {},
     "output_type": "execute_result"
    }
   ],
   "source": [
    "count = 0\n",
    "start = time.time()\n",
    "for i, v in s.items():\n",
    "    if i % 2 and v % 2:\n",
    "        count += 1\n",
    "end = time.time()\n",
    "time_s = end - start\n",
    "count"
   ]
  },
  {
   "cell_type": "code",
   "execution_count": 28,
   "metadata": {},
   "outputs": [
    {
     "data": {
      "text/plain": [
       "24938"
      ]
     },
     "execution_count": 28,
     "metadata": {},
     "output_type": "execute_result"
    }
   ],
   "source": [
    "count = 0\n",
    "start = time.time()\n",
    "for i, v in fs.items():\n",
    "    if i % 2 and v % 2:\n",
    "        count += 1\n",
    "end = time.time()\n",
    "time_fs = end - start\n",
    "count"
   ]
  },
  {
   "cell_type": "code",
   "execution_count": 29,
   "metadata": {},
   "outputs": [
    {
     "name": "stdout",
     "output_type": "stream",
     "text": [
      "pandas time: 0.033939, simple pandas time: 0.042886\n",
      "boost times: 0.79138\n"
     ]
    }
   ],
   "source": [
    "print(\"pandas time: {:.5}, simple pandas time: {:.5}\".format(time_s, time_fs))\n",
    "print(\"boost times: {:.5}\".format(time_s / time_fs))"
   ]
  },
  {
   "cell_type": "code",
   "execution_count": 30,
   "metadata": {},
   "outputs": [],
   "source": [
    "count = 0\n",
    "start = time.time()\n",
    "for v in fs:\n",
    "    pass\n",
    "end = time.time()\n",
    "time_s = end - start"
   ]
  },
  {
   "cell_type": "code",
   "execution_count": 31,
   "metadata": {},
   "outputs": [],
   "source": [
    "start = time.time()\n",
    "for v in s:\n",
    "    pass\n",
    "end = time.time()\n",
    "time_fs = end - start"
   ]
  },
  {
   "cell_type": "code",
   "execution_count": 32,
   "metadata": {},
   "outputs": [
    {
     "name": "stdout",
     "output_type": "stream",
     "text": [
      "pandas time: 0.010006, simple pandas time: 0.0099723\n",
      "boost times: 1.0034\n"
     ]
    }
   ],
   "source": [
    "print(\"pandas time: {:.5}, simple pandas time: {:.5}\".format(time_s, time_fs))\n",
    "print(\"boost times: {:.5}\".format(time_s / time_fs))"
   ]
  }
 ],
 "metadata": {
  "kernelspec": {
   "display_name": "Python 3",
   "language": "python",
   "name": "python3"
  },
  "language_info": {
   "codemirror_mode": {
    "name": "ipython",
    "version": 3
   },
   "file_extension": ".py",
   "mimetype": "text/x-python",
   "name": "python",
   "nbconvert_exporter": "python",
   "pygments_lexer": "ipython3",
   "version": "3.6.4"
  }
 },
 "nbformat": 4,
 "nbformat_minor": 2
}
